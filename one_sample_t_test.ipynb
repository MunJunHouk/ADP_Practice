{
 "metadata": {
  "language_info": {
   "codemirror_mode": {
    "name": "ipython",
    "version": 3
   },
   "file_extension": ".py",
   "mimetype": "text/x-python",
   "name": "python",
   "nbconvert_exporter": "python",
   "pygments_lexer": "ipython3",
   "version": "3.8.6"
  },
  "orig_nbformat": 2,
  "kernelspec": {
   "name": "python386jvsc74a57bd0979e67ee4ca4731cfb5452dc33859ab8318f68a80b1ee4e201e4873e58c2c841",
   "display_name": "Python 3.8.6 64-bit"
  },
  "metadata": {
   "interpreter": {
    "hash": "979e67ee4ca4731cfb5452dc33859ab8318f68a80b1ee4e201e4873e58c2c841"
   }
  }
 },
 "nbformat": 4,
 "nbformat_minor": 2,
 "cells": [
  {
   "cell_type": "code",
   "execution_count": 1,
   "metadata": {},
   "outputs": [],
   "source": [
    "# load cats data set in Mass\n",
    "# Download Mass package : https://forge.scilab.org/index.php/p/rdataset/source/tree/master/csv/MASS\n",
    "import pandas as pd\n",
    "cats_df = pd.read_csv('../rdataset-master\\csv\\MASS\\cats.csv')"
   ]
  },
  {
   "cell_type": "code",
   "execution_count": 2,
   "metadata": {},
   "outputs": [
    {
     "output_type": "stream",
     "name": "stdout",
     "text": [
      "   Unnamed: 0 Sex  Bwt  Hwt\n0           1   F  2.0  7.0\n1           2   F  2.0  7.4\n2           3   F  2.0  9.5\n3           4   F  2.1  7.2\n4           5   F  2.1  7.3\n"
     ]
    },
    {
     "output_type": "execute_result",
     "data": {
      "text/plain": [
       "       Unnamed: 0         Bwt         Hwt\n",
       "count  144.000000  144.000000  144.000000\n",
       "mean    72.500000    2.723611   10.630556\n",
       "std     41.713307    0.485307    2.434636\n",
       "min      1.000000    2.000000    6.300000\n",
       "25%     36.750000    2.300000    8.950000\n",
       "50%     72.500000    2.700000   10.100000\n",
       "75%    108.250000    3.025000   12.125000\n",
       "max    144.000000    3.900000   20.500000"
      ],
      "text/html": "<div>\n<style scoped>\n    .dataframe tbody tr th:only-of-type {\n        vertical-align: middle;\n    }\n\n    .dataframe tbody tr th {\n        vertical-align: top;\n    }\n\n    .dataframe thead th {\n        text-align: right;\n    }\n</style>\n<table border=\"1\" class=\"dataframe\">\n  <thead>\n    <tr style=\"text-align: right;\">\n      <th></th>\n      <th>Unnamed: 0</th>\n      <th>Bwt</th>\n      <th>Hwt</th>\n    </tr>\n  </thead>\n  <tbody>\n    <tr>\n      <th>count</th>\n      <td>144.000000</td>\n      <td>144.000000</td>\n      <td>144.000000</td>\n    </tr>\n    <tr>\n      <th>mean</th>\n      <td>72.500000</td>\n      <td>2.723611</td>\n      <td>10.630556</td>\n    </tr>\n    <tr>\n      <th>std</th>\n      <td>41.713307</td>\n      <td>0.485307</td>\n      <td>2.434636</td>\n    </tr>\n    <tr>\n      <th>min</th>\n      <td>1.000000</td>\n      <td>2.000000</td>\n      <td>6.300000</td>\n    </tr>\n    <tr>\n      <th>25%</th>\n      <td>36.750000</td>\n      <td>2.300000</td>\n      <td>8.950000</td>\n    </tr>\n    <tr>\n      <th>50%</th>\n      <td>72.500000</td>\n      <td>2.700000</td>\n      <td>10.100000</td>\n    </tr>\n    <tr>\n      <th>75%</th>\n      <td>108.250000</td>\n      <td>3.025000</td>\n      <td>12.125000</td>\n    </tr>\n    <tr>\n      <th>max</th>\n      <td>144.000000</td>\n      <td>3.900000</td>\n      <td>20.500000</td>\n    </tr>\n  </tbody>\n</table>\n</div>"
     },
     "metadata": {},
     "execution_count": 2
    }
   ],
   "source": [
    "# cats data check\n",
    "print(cats_df.head())\n",
    "cats_df.describe()"
   ]
  },
  {
   "cell_type": "code",
   "execution_count": 3,
   "metadata": {},
   "outputs": [
    {
     "output_type": "execute_result",
     "data": {
      "text/plain": [
       "ShapiroResult(statistic=0.9518786668777466, pvalue=6.730248423991725e-05)"
      ]
     },
     "metadata": {},
     "execution_count": 3
    }
   ],
   "source": [
    "# shapiro test (for noraml distribution test)\n",
    "from scipy.stats import shapiro\n",
    "shapito_test = shapiro(cats_df['Bwt'])\n",
    "shapito_test"
   ]
  },
  {
   "cell_type": "code",
   "execution_count": 4,
   "metadata": {},
   "outputs": [],
   "source": [
    "# p-value < 0.5\n",
    "# Rejct H0(null hypothesis)\n",
    "# So, Bwt is not noraml distribution"
   ]
  },
  {
   "cell_type": "code",
   "execution_count": 5,
   "metadata": {},
   "outputs": [
    {
     "output_type": "execute_result",
     "data": {
      "text/plain": [
       "(3573.0, 0.02524520294814093)"
      ]
     },
     "metadata": {},
     "execution_count": 5
    }
   ],
   "source": [
    "# wilcox test\n",
    "from scipy.stats import wilcoxon\n",
    "# mu = 2.6kg\n",
    "# alternative = 'greater'   = mu > 0\n",
    "# alternative = 'less'      = mu < 0\n",
    "# alternative = 'two-sided' = mu != 0\n",
    "w, p = wilcoxon(cats_df['Bwt'] - 2.6, alternative='two-sided') \n",
    "w, p"
   ]
  },
  {
   "cell_type": "code",
   "execution_count": 6,
   "metadata": {},
   "outputs": [],
   "source": [
    "# H0 = The average weight of cats is 2.6kg.\n",
    "# p-value < 0.5\n",
    "# Rejct H0(null hypothesis)\n",
    "# So, The average weight of cats is not 2.6kg."
   ]
  }
 ]
}
