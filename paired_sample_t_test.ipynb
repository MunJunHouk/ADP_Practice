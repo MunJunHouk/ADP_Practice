{
 "metadata": {
  "language_info": {
   "codemirror_mode": {
    "name": "ipython",
    "version": 3
   },
   "file_extension": ".py",
   "mimetype": "text/x-python",
   "name": "python",
   "nbconvert_exporter": "python",
   "pygments_lexer": "ipython3",
   "version": "3.8.6"
  },
  "orig_nbformat": 2,
  "kernelspec": {
   "name": "python386jvsc74a57bd0979e67ee4ca4731cfb5452dc33859ab8318f68a80b1ee4e201e4873e58c2c841",
   "display_name": "Python 3.8.6 64-bit"
  },
  "metadata": {
   "interpreter": {
    "hash": "979e67ee4ca4731cfb5452dc33859ab8318f68a80b1ee4e201e4873e58c2c841"
   }
  }
 },
 "nbformat": 4,
 "nbformat_minor": 2,
 "cells": [
  {
   "cell_type": "code",
   "execution_count": 1,
   "metadata": {},
   "outputs": [],
   "source": [
    "# 수면 영양제 복용 후 환자들의 수면 시간이 증가 하였는지를 확인하고자 한다.\n",
    "# 수면 영양제 복용 전/후 환자들의 수면 시간 Data\n",
    "list_before = [7, 3, 4, 5, 2, 1, 6, 6, 5, 4] # 복용 전\n",
    "list_after = [8, 4, 5, 6, 2, 3, 6, 8, 6, 5] # 복용 후"
   ]
  },
  {
   "cell_type": "code",
   "execution_count": 2,
   "metadata": {},
   "outputs": [
    {
     "output_type": "stream",
     "name": "stdout",
     "text": [
      "ShapiroResult(statistic=0.9644595384597778, pvalue=0.8352707624435425)\nShapiroResult(statistic=0.9456837177276611, pvalue=0.6177994012832642)\n"
     ]
    }
   ],
   "source": [
    "# 정규성 검정\n",
    "import scipy.stats as stats\n",
    "print(stats.shapiro(list_before))\n",
    "print(stats.shapiro(list_after))"
   ]
  },
  {
   "cell_type": "code",
   "execution_count": 3,
   "metadata": {},
   "outputs": [],
   "source": [
    "# list before : pvalue > 0.05 -> 정규분포를 따른다.\n",
    "# list after : pvalue > 0.05 -> 정규분포를 따른다."
   ]
  },
  {
   "cell_type": "code",
   "execution_count": 4,
   "metadata": {},
   "outputs": [
    {
     "output_type": "execute_result",
     "data": {
      "text/plain": [
       "Ttest_relResult(statistic=-4.743416490252569, pvalue=0.001053871257016553)"
      ]
     },
     "metadata": {},
     "execution_count": 4
    }
   ],
   "source": [
    "# paired t-test\n",
    "# 귀무가설(H0) : ~는 없다. (사전 = 사후)\n",
    "# 대립가셜(H1) : ~는 있다. (사전 < 사후)\n",
    "stats.ttest_rel(list_before, list_after)"
   ]
  },
  {
   "cell_type": "code",
   "execution_count": 5,
   "metadata": {},
   "outputs": [],
   "source": [
    "# pvalue < 0.05 : reject H0, accept H1\n",
    "# 수면 영양제 복용 전/후 환자들의 수면시간의 차이가 있다."
   ]
  },
  {
   "cell_type": "code",
   "execution_count": 6,
   "metadata": {},
   "outputs": [
    {
     "output_type": "stream",
     "name": "stderr",
     "text": [
      "C:\\Python386\\lib\\site-packages\\scipy\\stats\\morestats.py:2967: UserWarning: Exact p-value calculation does not work if there are ties. Switching to normal approximation.\n  warnings.warn(\"Exact p-value calculation does not work if there are \"\nC:\\Python386\\lib\\site-packages\\scipy\\stats\\morestats.py:2981: UserWarning: Sample size too small for normal approximation.\n  warnings.warn(\"Sample size too small for normal approximation.\")\n"
     ]
    },
    {
     "output_type": "execute_result",
     "data": {
      "text/plain": [
       "WilcoxonResult(statistic=0.0, pvalue=0.9958503920023596)"
      ]
     },
     "metadata": {},
     "execution_count": 6
    }
   ],
   "source": [
    "# wilcoxon's singed rank test\n",
    "# 귀무가설(H0) : ~는 없다. (사전 = 사후)\n",
    "# 대립가셜(H1) : ~는 있다. (사전 < 사후)\n",
    "stats.wilcoxon(list_before, list_after, zero_method='wilcox', alternative='greater')"
   ]
  },
  {
   "cell_type": "code",
   "execution_count": null,
   "metadata": {},
   "outputs": [],
   "source": [
    "# wilcoxon's signed rank test의 경우 data 수가 너무 적어서 결과를 정상 도출하지 못하였다.\n",
    "# 다른 데이터로 차후 테스트 하도록 할 것이다."
   ]
  }
 ]
}
