{
 "metadata": {
  "language_info": {
   "codemirror_mode": {
    "name": "ipython",
    "version": 3
   },
   "file_extension": ".py",
   "mimetype": "text/x-python",
   "name": "python",
   "nbconvert_exporter": "python",
   "pygments_lexer": "ipython3",
   "version": "3.8.7"
  },
  "orig_nbformat": 2,
  "kernelspec": {
   "name": "python3",
   "display_name": "Python 3.8.7 64-bit",
   "metadata": {
    "interpreter": {
     "hash": "52f0724adb0f0dd709f9257d8a59a14b1098a0c702a7da9be4ab8a0e145999f7"
    }
   }
  }
 },
 "nbformat": 4,
 "nbformat_minor": 2,
 "cells": [
  {
   "cell_type": "code",
   "execution_count": 1,
   "metadata": {},
   "outputs": [],
   "source": [
    "# 독립성 검정\n",
    "# 모집단을 범주화하는 기준이 되는 두 변수 A,B가 서로 독립적으로 관측값에 영향을 미치는지의 여부를 검정 \n",
    "# H0(귀무가설): 두 변수 사이에는 연관이 없다. (독립이다)\n",
    "# H1(대립가설): 두 변수 사이에는 연관이 있다. (종속이다)"
   ]
  },
  {
   "cell_type": "code",
   "execution_count": 2,
   "metadata": {},
   "outputs": [],
   "source": [
    "# survey 데이터의 Exer변수와 W.Hnd변수가 서로 독립인지를 확인\n",
    "# H0: W.Hnd변수와 Exer은 독립이다.\n",
    "# H1: W.Hnd변수와 Exer은 독립이 아니다."
   ]
  },
  {
   "cell_type": "code",
   "execution_count": 3,
   "metadata": {},
   "outputs": [],
   "source": [
    "# load survey data set in Mass\n",
    "# Download Mass package : https://forge.scilab.org/index.php/p/rdataset/source/tree/master/csv/MASS\n",
    "import pandas as pd\n",
    "survey_df = pd.read_csv('rdataset-master\\csv\\MASS\\survey.csv')"
   ]
  },
  {
   "cell_type": "code",
   "execution_count": 4,
   "metadata": {},
   "outputs": [
    {
     "output_type": "stream",
     "name": "stdout",
     "text": [
      "   Unnamed: 0     Sex  Wr.Hnd  NW.Hnd  W.Hnd     Fold  Pulse     Clap  Exer  \\\n0           1  Female    18.5    18.0  Right   R on L   92.0     Left  Some   \n1           2    Male    19.5    20.5   Left   R on L  104.0     Left  None   \n2           3    Male    18.0    13.3  Right   L on R   87.0  Neither  None   \n3           4    Male    18.8    18.9  Right   R on L    NaN  Neither  None   \n4           5    Male    20.0    20.0  Right  Neither   35.0    Right  Some   \n\n   Smoke  Height       M.I     Age  \n0  Never   173.0    Metric  18.250  \n1  Regul   177.8  Imperial  17.583  \n2  Occas     NaN       NaN  16.917  \n3  Never   160.0    Metric  20.333  \n4  Never   165.0    Metric  23.667  \n       Unnamed: 0      Wr.Hnd      NW.Hnd       Pulse      Height         Age\ncount  237.000000  236.000000  236.000000  192.000000  209.000000  237.000000\nmean   119.000000   18.669068   18.582627   74.151042  172.380861   20.374515\nstd     68.560193    1.878981    1.967068   11.687157    9.847528    6.474335\nmin      1.000000   13.000000   12.500000   35.000000  150.000000   16.750000\n25%     60.000000   17.500000   17.500000   66.000000  165.000000   17.667000\n50%    119.000000   18.500000   18.500000   72.500000  171.000000   18.583000\n75%    178.000000   19.800000   19.725000   80.000000  180.000000   20.167000\nmax    237.000000   23.200000   23.500000  104.000000  200.000000   73.000000\n"
     ]
    }
   ],
   "source": [
    "# data check\n",
    "print(survey_df.head())\n",
    "print(survey_df.describe())"
   ]
  },
  {
   "source": [
    "# 분할표 생성\n",
    "df_data = pd.crosstab(survey_df['W.Hnd'], survey_df.Exer)\n",
    "print(df_data)"
   ],
   "cell_type": "code",
   "metadata": {},
   "execution_count": 5,
   "outputs": [
    {
     "output_type": "stream",
     "name": "stdout",
     "text": [
      "Exer   Freq  None  Some\nW.Hnd                  \nLeft      7     3     8\nRight   107    21    90\n"
     ]
    }
   ]
  },
  {
   "cell_type": "code",
   "execution_count": 6,
   "metadata": {},
   "outputs": [
    {
     "output_type": "stream",
     "name": "stdout",
     "text": [
      "Test Statistic: 1.2065256705182212\np-value: 0.5470238723125773\nDegree of Freedom: 2\n[[  8.69491525   1.83050847   7.47457627]\n [105.30508475  22.16949153  90.52542373]]\n"
     ]
    }
   ],
   "source": [
    "from scipy.stats import chi2_contingency \n",
    "chi_2, p, dof, expected = chi2_contingency([df_data.iloc[0], df_data.iloc[1]])\n",
    "msg = 'Test Statistic: {}\\np-value: {}\\nDegree of Freedom: {}'\n",
    "print(msg.format(chi_2, p, dof)) \n",
    "print(expected)"
   ]
  },
  {
   "cell_type": "code",
   "execution_count": 7,
   "metadata": {},
   "outputs": [],
   "source": [
    "# p-value가 0.547로 0.05보다 크기 때문에 H0를 기각하지 않는다.\n",
    "# survey data의 설문 응답자들이 주로 사용하는 손과 운동빈도는 서로 독립이라고 말할 수 있다."
   ]
  }
 ]
}