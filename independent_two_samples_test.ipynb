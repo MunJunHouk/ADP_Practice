{
 "metadata": {
  "language_info": {
   "codemirror_mode": {
    "name": "ipython",
    "version": 3
   },
   "file_extension": ".py",
   "mimetype": "text/x-python",
   "name": "python",
   "nbconvert_exporter": "python",
   "pygments_lexer": "ipython3",
   "version": "3.8.6"
  },
  "orig_nbformat": 2,
  "kernelspec": {
   "name": "python386jvsc74a57bd0979e67ee4ca4731cfb5452dc33859ab8318f68a80b1ee4e201e4873e58c2c841",
   "display_name": "Python 3.8.6 64-bit"
  },
  "metadata": {
   "interpreter": {
    "hash": "979e67ee4ca4731cfb5452dc33859ab8318f68a80b1ee4e201e4873e58c2c841"
   }
  }
 },
 "nbformat": 4,
 "nbformat_minor": 2,
 "cells": [
  {
   "cell_type": "code",
   "execution_count": 1,
   "metadata": {},
   "outputs": [],
   "source": [
    "# cats의 성별에 따른 몸무게의 평균은 통계적으로 다르다고 할 수 있는지에 대한 검정 수행\n",
    "# Mass에 있는 cats data를 활용, 성별 : Sex열, 몸무게 : Bwt열"
   ]
  },
  {
   "cell_type": "code",
   "execution_count": 2,
   "metadata": {},
   "outputs": [],
   "source": [
    "# load cats data set in Mass\n",
    "# Download Mass package : https://forge.scilab.org/index.php/p/rdataset/source/tree/master/csv/MASS\n",
    "import pandas as pd\n",
    "cats_df = pd.read_csv('../rdataset-master\\csv\\MASS\\cats.csv')"
   ]
  },
  {
   "cell_type": "code",
   "execution_count": 3,
   "metadata": {},
   "outputs": [
    {
     "output_type": "stream",
     "name": "stdout",
     "text": [
      "   Unnamed: 0 Sex  Bwt  Hwt\n0           1   F  2.0  7.0\n1           2   F  2.0  7.4\n2           3   F  2.0  9.5\n3           4   F  2.1  7.2\n4           5   F  2.1  7.3\n       Unnamed: 0         Bwt         Hwt\ncount  144.000000  144.000000  144.000000\nmean    72.500000    2.723611   10.630556\nstd     41.713307    0.485307    2.434636\nmin      1.000000    2.000000    6.300000\n25%     36.750000    2.300000    8.950000\n50%     72.500000    2.700000   10.100000\n75%    108.250000    3.025000   12.125000\nmax    144.000000    3.900000   20.500000\n"
     ]
    }
   ],
   "source": [
    "# data 확인\n",
    "print(cats_df.head())\n",
    "print(cats_df.describe())"
   ]
  },
  {
   "cell_type": "code",
   "execution_count": 4,
   "metadata": {},
   "outputs": [
    {
     "output_type": "stream",
     "name": "stdout",
     "text": [
      "   Unnamed: 0 Sex  Bwt  Hwt\n0           1   F  2.0  7.0\n1           2   F  2.0  7.4\n2           3   F  2.0  9.5\n3           4   F  2.1  7.2\n4           5   F  2.1  7.3\n    Unnamed: 0 Sex  Bwt   Hwt\n47          48   M  2.0   6.5\n48          49   M  2.0   6.5\n49          50   M  2.1  10.1\n50          51   M  2.2   7.2\n51          52   M  2.2   7.6\n"
     ]
    }
   ],
   "source": [
    "#female, male을 나누고, Bwt data 추출\n",
    "female_df = cats_df[cats_df['Sex'] == 'F']\n",
    "male_df = cats_df[cats_df['Sex'] == 'M']\n",
    "print(female_df.head())\n",
    "print(male_df.head())\n",
    "\n",
    "list_female_Bwt = female_df['Bwt'].tolist()\n",
    "list_male_Bwt = male_df['Bwt'].tolist()"
   ]
  },
  {
   "cell_type": "code",
   "execution_count": 5,
   "metadata": {},
   "outputs": [
    {
     "output_type": "stream",
     "name": "stdout",
     "text": [
      "female Bwt pvalue = 0.0003754299250431359\nmale Bwt pvalue = 0.11895745247602463\n"
     ]
    }
   ],
   "source": [
    "# 정규성 검정, data 수가 5000보다 작으면 shapiro, 크면 anderson을 사용한다.\n",
    "import scipy.stats as stats\n",
    "\n",
    "if len(list_female_Bwt) < 5000:\n",
    "    female_statistic, female_pvalue = stats.shapiro(list_female_Bwt)\n",
    "else:\n",
    "    female_statistic, female_pvalue = stats.anderson(list_female_Bwt, dist='norm')\n",
    "\n",
    "if len(list_male_Bwt) < 5000:\n",
    "    male_statistic, male_pvalue = stats.shapiro(list_male_Bwt)\n",
    "else:\n",
    "    male_statistic, male_pvalue = stats.anderson(list_male_Bwt, dist='norm')\n",
    "\n",
    "print('female Bwt pvalue = ' + str(female_pvalue))\n",
    "print('male Bwt pvalue = ' + str(male_pvalue))"
   ]
  },
  {
   "cell_type": "code",
   "execution_count": 6,
   "metadata": {},
   "outputs": [],
   "source": [
    "# female Bwt pvalue < 0.05, 정규성 불만족\n",
    "# male Bwt pvalue > 0.05, 정규성 만족\n",
    "# Wilcoxon's rank sum test를 이용해 독립 2표본 검정 수행"
   ]
  },
  {
   "cell_type": "code",
   "execution_count": 7,
   "metadata": {},
   "outputs": [
    {
     "output_type": "execute_result",
     "data": {
      "text/plain": [
       "RanksumsResult(statistic=-6.484649068728496, pvalue=8.893855174450822e-11)"
      ]
     },
     "metadata": {},
     "execution_count": 7
    }
   ],
   "source": [
    "stats.ranksums(list_female_Bwt, list_male_Bwt)"
   ]
  },
  {
   "cell_type": "code",
   "execution_count": 8,
   "metadata": {},
   "outputs": [],
   "source": [
    "# pvalue < 0.05 , H1 accept\n",
    "# male과 female의 몸무게는 통계적으로 유의한 차이가 있다."
   ]
  }
 ]
}
